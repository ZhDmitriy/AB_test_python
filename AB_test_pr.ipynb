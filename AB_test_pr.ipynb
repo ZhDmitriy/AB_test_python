{
 "cells": [
  {
   "cell_type": "code",
   "execution_count": 63,
   "id": "9b2f9bc8",
   "metadata": {},
   "outputs": [],
   "source": [
    "#импортируем нужные библиотеки\n",
    "import pandas as pd\n",
    "import numpy as np \n",
    "import matplotlib.pyplot as plt \n",
    "import scipy.stats as st\n",
    "from tqdm import tqdm\n",
    "import seaborn as sns"
   ]
  },
  {
   "cell_type": "code",
   "execution_count": 60,
   "id": "9a2a4857",
   "metadata": {},
   "outputs": [
    {
     "name": "stdout",
     "output_type": "stream",
     "text": [
      "Requirement already satisfied: tqdm in d:\\anaconda\\lib\\site-packages (4.65.0)\n",
      "Requirement already satisfied: colorama in d:\\anaconda\\lib\\site-packages (from tqdm) (0.4.6)\n"
     ]
    }
   ],
   "source": [
    "!pip install tqdm"
   ]
  },
  {
   "cell_type": "code",
   "execution_count": 3,
   "id": "6feb6fe8",
   "metadata": {},
   "outputs": [
    {
     "data": {
      "text/html": [
       "<div>\n",
       "<style scoped>\n",
       "    .dataframe tbody tr th:only-of-type {\n",
       "        vertical-align: middle;\n",
       "    }\n",
       "\n",
       "    .dataframe tbody tr th {\n",
       "        vertical-align: top;\n",
       "    }\n",
       "\n",
       "    .dataframe thead th {\n",
       "        text-align: right;\n",
       "    }\n",
       "</style>\n",
       "<table border=\"1\" class=\"dataframe\">\n",
       "  <thead>\n",
       "    <tr style=\"text-align: right;\">\n",
       "      <th></th>\n",
       "      <th>user_id</th>\n",
       "      <th>timestamp</th>\n",
       "      <th>group</th>\n",
       "      <th>landing_page</th>\n",
       "      <th>converted</th>\n",
       "    </tr>\n",
       "  </thead>\n",
       "  <tbody>\n",
       "    <tr>\n",
       "      <th>0</th>\n",
       "      <td>851104</td>\n",
       "      <td>2017-01-21 22:11:48.556739</td>\n",
       "      <td>control</td>\n",
       "      <td>old_page</td>\n",
       "      <td>0</td>\n",
       "    </tr>\n",
       "    <tr>\n",
       "      <th>1</th>\n",
       "      <td>804228</td>\n",
       "      <td>2017-01-12 08:01:45.159739</td>\n",
       "      <td>control</td>\n",
       "      <td>old_page</td>\n",
       "      <td>0</td>\n",
       "    </tr>\n",
       "    <tr>\n",
       "      <th>2</th>\n",
       "      <td>661590</td>\n",
       "      <td>2017-01-11 16:55:06.154213</td>\n",
       "      <td>treatment</td>\n",
       "      <td>new_page</td>\n",
       "      <td>0</td>\n",
       "    </tr>\n",
       "    <tr>\n",
       "      <th>3</th>\n",
       "      <td>853541</td>\n",
       "      <td>2017-01-08 18:28:03.143765</td>\n",
       "      <td>treatment</td>\n",
       "      <td>new_page</td>\n",
       "      <td>0</td>\n",
       "    </tr>\n",
       "    <tr>\n",
       "      <th>4</th>\n",
       "      <td>864975</td>\n",
       "      <td>2017-01-21 01:52:26.210827</td>\n",
       "      <td>control</td>\n",
       "      <td>old_page</td>\n",
       "      <td>1</td>\n",
       "    </tr>\n",
       "  </tbody>\n",
       "</table>\n",
       "</div>"
      ],
      "text/plain": [
       "   user_id                  timestamp      group landing_page  converted\n",
       "0   851104 2017-01-21 22:11:48.556739    control     old_page          0\n",
       "1   804228 2017-01-12 08:01:45.159739    control     old_page          0\n",
       "2   661590 2017-01-11 16:55:06.154213  treatment     new_page          0\n",
       "3   853541 2017-01-08 18:28:03.143765  treatment     new_page          0\n",
       "4   864975 2017-01-21 01:52:26.210827    control     old_page          1"
      ]
     },
     "execution_count": 3,
     "metadata": {},
     "output_type": "execute_result"
    }
   ],
   "source": [
    "#считаем датасет параллельно переводя даты в общий формат дат timestamp\n",
    "data_ab = pd.read_csv(\"ab_data.csv\", parse_dates=['timestamp'], dayfirst=False, sep=\";\")\n",
    "data_ab.head(5)"
   ]
  },
  {
   "cell_type": "code",
   "execution_count": 4,
   "id": "1db64f5b",
   "metadata": {},
   "outputs": [
    {
     "data": {
      "text/plain": [
       "21"
      ]
     },
     "execution_count": 4,
     "metadata": {},
     "output_type": "execute_result"
    }
   ],
   "source": [
    "data_ab['timestamp'][0].day"
   ]
  },
  {
   "cell_type": "code",
   "execution_count": 5,
   "id": "9564496e",
   "metadata": {},
   "outputs": [
    {
     "data": {
      "text/plain": [
       "2017"
      ]
     },
     "execution_count": 5,
     "metadata": {},
     "output_type": "execute_result"
    }
   ],
   "source": [
    "data_ab['timestamp'][0].year"
   ]
  },
  {
   "cell_type": "code",
   "execution_count": 6,
   "id": "e3a745b7",
   "metadata": {},
   "outputs": [
    {
     "data": {
      "text/plain": [
       "1"
      ]
     },
     "execution_count": 6,
     "metadata": {},
     "output_type": "execute_result"
    }
   ],
   "source": [
    "data_ab['timestamp'][0].month"
   ]
  },
  {
   "cell_type": "markdown",
   "id": "23cf9b22",
   "metadata": {},
   "source": [
    "Посмотрим как был выстроен дизайн эксперимента:"
   ]
  },
  {
   "cell_type": "markdown",
   "id": "4a01a20b",
   "metadata": {},
   "source": [
    "Есть две группы (Очевидно): \n",
    "    \n",
    "    1. Контрольная \n",
    "    \n",
    "    2. Тестовая \n",
    "\n",
    "У нас есть два сайта со старом дизайном и новым дизайном сайта, здесь мы замеряем метрику - конверсию (дискретную переменную): изменится она или нет от того, что мы поменяли элемент. "
   ]
  },
  {
   "cell_type": "code",
   "execution_count": 7,
   "id": "807cfaa2",
   "metadata": {},
   "outputs": [
    {
     "name": "stdout",
     "output_type": "stream",
     "text": [
      "294478 пользователей\n",
      "treatment    147276\n",
      "control      147202\n",
      "Name: group, dtype: int64\n"
     ]
    }
   ],
   "source": [
    "#Посмотрим на распределение контрольной и тестовой группы, а также какая выборка была взята для проведения A/B теста \n",
    "print(f\"{len(data_ab['group'])} пользователей\")\n",
    "print(data_ab['group'].value_counts())"
   ]
  },
  {
   "cell_type": "markdown",
   "id": "84a73721",
   "metadata": {},
   "source": [
    "Из-за того, что контрольная и тестовая группа распределены в соотношении 1 к 1 (50 на 50), то не очевидна статистическая значимость при подсчете. Всего пользователей составляет почти 300 тысяч юзеров, которое отобрали для эксперимента."
   ]
  },
  {
   "cell_type": "code",
   "execution_count": 8,
   "id": "7eea4c98",
   "metadata": {},
   "outputs": [
    {
     "data": {
      "text/plain": [
       "{2017}"
      ]
     },
     "execution_count": 8,
     "metadata": {},
     "output_type": "execute_result"
    }
   ],
   "source": [
    "#Посмотрим сколько длился эксперимент\n",
    "years = []\n",
    "\n",
    "for yr in data_ab['timestamp']:\n",
    "    years.append(yr.year)\n",
    "    \n",
    "set(years) #уникальный год только один = 2017"
   ]
  },
  {
   "cell_type": "code",
   "execution_count": 9,
   "id": "7c0d8cc9",
   "metadata": {},
   "outputs": [
    {
     "data": {
      "text/plain": [
       "array([21, 12, 11,  8, 10, 19, 17,  4, 15, 18,  9, 22, 24, 23, 20,  5,  6,\n",
       "       13,  7,  3,  2, 16, 14], dtype=int64)"
      ]
     },
     "execution_count": 9,
     "metadata": {},
     "output_type": "execute_result"
    }
   ],
   "source": [
    "data_ab['timestamp'].dt.day.unique()"
   ]
  },
  {
   "cell_type": "code",
   "execution_count": 10,
   "id": "2d41bac5",
   "metadata": {},
   "outputs": [
    {
     "data": {
      "text/plain": [
       "23"
      ]
     },
     "execution_count": 10,
     "metadata": {},
     "output_type": "execute_result"
    }
   ],
   "source": [
    "len(data_ab['timestamp'].dt.day.unique())"
   ]
  },
  {
   "cell_type": "code",
   "execution_count": 11,
   "id": "2bd50b5a",
   "metadata": {},
   "outputs": [
    {
     "data": {
      "text/plain": [
       "array([1], dtype=int64)"
      ]
     },
     "execution_count": 11,
     "metadata": {},
     "output_type": "execute_result"
    }
   ],
   "source": [
    "#Только один месяц\n",
    "data_ab['timestamp'].dt.month.unique()"
   ]
  },
  {
   "cell_type": "markdown",
   "id": "264d0b0a",
   "metadata": {},
   "source": [
    "Эксперимент длился 23 дня"
   ]
  },
  {
   "cell_type": "code",
   "execution_count": 12,
   "id": "1350e0ff",
   "metadata": {},
   "outputs": [
    {
     "data": {
      "text/html": [
       "<div>\n",
       "<style scoped>\n",
       "    .dataframe tbody tr th:only-of-type {\n",
       "        vertical-align: middle;\n",
       "    }\n",
       "\n",
       "    .dataframe tbody tr th {\n",
       "        vertical-align: top;\n",
       "    }\n",
       "\n",
       "    .dataframe thead th {\n",
       "        text-align: right;\n",
       "    }\n",
       "</style>\n",
       "<table border=\"1\" class=\"dataframe\">\n",
       "  <thead>\n",
       "    <tr style=\"text-align: right;\">\n",
       "      <th></th>\n",
       "      <th>Day</th>\n",
       "      <th>group</th>\n",
       "      <th>converted</th>\n",
       "    </tr>\n",
       "  </thead>\n",
       "  <tbody>\n",
       "    <tr>\n",
       "      <th>0</th>\n",
       "      <td>21</td>\n",
       "      <td>control</td>\n",
       "      <td>0</td>\n",
       "    </tr>\n",
       "    <tr>\n",
       "      <th>1</th>\n",
       "      <td>12</td>\n",
       "      <td>control</td>\n",
       "      <td>0</td>\n",
       "    </tr>\n",
       "    <tr>\n",
       "      <th>2</th>\n",
       "      <td>11</td>\n",
       "      <td>treatment</td>\n",
       "      <td>0</td>\n",
       "    </tr>\n",
       "    <tr>\n",
       "      <th>3</th>\n",
       "      <td>8</td>\n",
       "      <td>treatment</td>\n",
       "      <td>0</td>\n",
       "    </tr>\n",
       "    <tr>\n",
       "      <th>4</th>\n",
       "      <td>21</td>\n",
       "      <td>control</td>\n",
       "      <td>1</td>\n",
       "    </tr>\n",
       "  </tbody>\n",
       "</table>\n",
       "</div>"
      ],
      "text/plain": [
       "   Day      group  converted\n",
       "0   21    control          0\n",
       "1   12    control          0\n",
       "2   11  treatment          0\n",
       "3    8  treatment          0\n",
       "4   21    control          1"
      ]
     },
     "execution_count": 12,
     "metadata": {},
     "output_type": "execute_result"
    }
   ],
   "source": [
    "#Посмотрим как менялась конверсия в течение 5 дней у каждой из групп\n",
    "data_ab['Day'] = data_ab['timestamp'].dt.day\n",
    "data_cr = data_ab[['Day', 'group', 'converted']]\n",
    "data_cr.head(5)"
   ]
  },
  {
   "cell_type": "code",
   "execution_count": 13,
   "id": "4813cc24",
   "metadata": {},
   "outputs": [
    {
     "data": {
      "text/plain": [
       "array([21, 12, 10, 17, 22, 24, 23, 13, 11, 16,  8,  5, 18, 20,  3, 19,  7,\n",
       "       14,  9,  2,  6, 15,  4], dtype=int64)"
      ]
     },
     "execution_count": 13,
     "metadata": {},
     "output_type": "execute_result"
    }
   ],
   "source": [
    "control_data = data_cr.query('group==\"control\"')\n",
    "control_data['Day'].unique()"
   ]
  },
  {
   "cell_type": "code",
   "execution_count": 14,
   "id": "b7dc89da",
   "metadata": {},
   "outputs": [
    {
     "data": {
      "text/plain": [
       "array([11,  8, 19,  4, 15, 18, 21,  9, 22, 12, 23, 20,  5,  6,  7,  3,  2,\n",
       "       17, 13, 14, 10, 16, 24], dtype=int64)"
      ]
     },
     "execution_count": 14,
     "metadata": {},
     "output_type": "execute_result"
    }
   ],
   "source": [
    "treatment_data = data_cr.query('group==\"treatment\"')\n",
    "treatment_data['Day'].unique()"
   ]
  },
  {
   "cell_type": "code",
   "execution_count": 15,
   "id": "7cf15627",
   "metadata": {},
   "outputs": [],
   "source": [
    "days_sr = control_data['Day'].unique()\n",
    "days = []\n",
    "\n",
    "for day in days_sr:\n",
    "    days.append(day)\n",
    "    \n",
    "days.sort()"
   ]
  },
  {
   "cell_type": "code",
   "execution_count": 16,
   "id": "75d634ff",
   "metadata": {},
   "outputs": [],
   "source": [
    "days_sr = treatment_data['Day'].unique()\n",
    "days_test = []\n",
    "\n",
    "for day in days_sr:\n",
    "    days_test.append(day)\n",
    "    \n",
    "days_test.sort()"
   ]
  },
  {
   "cell_type": "code",
   "execution_count": 17,
   "id": "18b0b686",
   "metadata": {},
   "outputs": [
    {
     "data": {
      "text/plain": [
       "[2, 3, 4, 5, 6]"
      ]
     },
     "execution_count": 17,
     "metadata": {},
     "output_type": "execute_result"
    }
   ],
   "source": [
    "days[:5]"
   ]
  },
  {
   "cell_type": "code",
   "execution_count": 18,
   "id": "34f8c365",
   "metadata": {},
   "outputs": [],
   "source": [
    "conversion_data = {}\n",
    "conversion = []\n",
    "\n",
    "for day in days:\n",
    "    conversion_data[day] = control_data.query(f'Day=={day}')['converted'].sum() / len(control_data.query(f'Day=={day}')['converted'])\n",
    "    conversion.append(control_data.query(f'Day=={day}')['converted'].sum() / len(control_data.query(f'Day=={day}')['converted']))"
   ]
  },
  {
   "cell_type": "code",
   "execution_count": 19,
   "id": "b6526d76",
   "metadata": {},
   "outputs": [
    {
     "data": {
      "text/plain": [
       "[0.12508638562543192,\n",
       " 0.11370436864153202,\n",
       " 0.1217129977460556,\n",
       " 0.12251453043744265,\n",
       " 0.11639736684619988]"
      ]
     },
     "execution_count": 19,
     "metadata": {},
     "output_type": "execute_result"
    }
   ],
   "source": [
    "conversion[:5]"
   ]
  },
  {
   "cell_type": "code",
   "execution_count": 20,
   "id": "13943074",
   "metadata": {},
   "outputs": [],
   "source": [
    "conversion_data = {}\n",
    "conversion_test = []\n",
    "\n",
    "for day in days:\n",
    "    conversion_data[day] = treatment_data.query(f'Day=={day}')['converted'].sum() / len(treatment_data.query(f'Day=={day}')['converted'])\n",
    "    conversion_test.append(treatment_data.query(f'Day=={day}')['converted'].sum() / len(treatment_data.query(f'Day=={day}')['converted']))"
   ]
  },
  {
   "cell_type": "code",
   "execution_count": 21,
   "id": "1c8e4773",
   "metadata": {},
   "outputs": [
    {
     "data": {
      "text/plain": [
       "[0.12045690550363447,\n",
       " 0.1135618479880775,\n",
       " 0.11660883994569317,\n",
       " 0.11509262071059824,\n",
       " 0.12390414962010521]"
      ]
     },
     "execution_count": 21,
     "metadata": {},
     "output_type": "execute_result"
    }
   ],
   "source": [
    "conversion_test[:5]"
   ]
  },
  {
   "cell_type": "code",
   "execution_count": 22,
   "id": "0f0bd733",
   "metadata": {},
   "outputs": [
    {
     "data": {
      "image/png": "[encoded data removed]",
      "text/plain": [
       "<Figure size 1400x600 with 2 Axes>"
      ]
     },
     "metadata": {},
     "output_type": "display_data"
    }
   ],
   "source": [
    "fig, axes = plt.subplots(1, 2, figsize=(14, 6))\n",
    "\n",
    "axes[0].plot(days, conversion, ls=\"--\", color=\"red\", alpha=0.8)\n",
    "axes[0].set_title(\"CR, % по дням (control)\")\n",
    "axes[0].set_ylabel(\"CR, %\")\n",
    "axes[0].set_xlabel(\"Days\")\n",
    "axes[0].set_facecolor(\"#aef2e4\")\n",
    "axes[0].grid()\n",
    "\n",
    "axes[1].plot(days_test, conversion_test, ls=\"--\", color=\"red\", alpha=0.8)\n",
    "axes[1].set_title(\"CR, % по дням (test)\")\n",
    "axes[1].set_ylabel(\"CR, %\")\n",
    "axes[1].set_xlabel(\"Days\")\n",
    "axes[1].set_facecolor(\"#aef2e4\")\n",
    "axes[1].grid()"
   ]
  },
  {
   "cell_type": "markdown",
   "id": "4bbab2cd",
   "metadata": {},
   "source": [
    "По графику видно, что конверсия по контрольной группе равняется примено 12%, а по тестовой немного выше"
   ]
  },
  {
   "cell_type": "markdown",
   "id": "92adf685",
   "metadata": {},
   "source": [
    "Теперь посчитаем общую конверсию и сформулируем нулевую и альтернативную гипотезы для проверки бутстрепом"
   ]
  },
  {
   "cell_type": "code",
   "execution_count": 23,
   "id": "13c44129",
   "metadata": {},
   "outputs": [
    {
     "data": {
      "text/html": [
       "<div>\n",
       "<style scoped>\n",
       "    .dataframe tbody tr th:only-of-type {\n",
       "        vertical-align: middle;\n",
       "    }\n",
       "\n",
       "    .dataframe tbody tr th {\n",
       "        vertical-align: top;\n",
       "    }\n",
       "\n",
       "    .dataframe thead th {\n",
       "        text-align: right;\n",
       "    }\n",
       "</style>\n",
       "<table border=\"1\" class=\"dataframe\">\n",
       "  <thead>\n",
       "    <tr style=\"text-align: right;\">\n",
       "      <th></th>\n",
       "      <th>converted</th>\n",
       "    </tr>\n",
       "    <tr>\n",
       "      <th>group</th>\n",
       "      <th></th>\n",
       "    </tr>\n",
       "  </thead>\n",
       "  <tbody>\n",
       "    <tr>\n",
       "      <th>control</th>\n",
       "      <td>0.120399</td>\n",
       "    </tr>\n",
       "    <tr>\n",
       "      <th>treatment</th>\n",
       "      <td>0.118920</td>\n",
       "    </tr>\n",
       "  </tbody>\n",
       "</table>\n",
       "</div>"
      ],
      "text/plain": [
       "           converted\n",
       "group               \n",
       "control     0.120399\n",
       "treatment   0.118920"
      ]
     },
     "execution_count": 23,
     "metadata": {},
     "output_type": "execute_result"
    }
   ],
   "source": [
    "data_cr.groupby(['group']).agg({'converted':'mean'})"
   ]
  },
  {
   "cell_type": "markdown",
   "id": "53467d2a",
   "metadata": {},
   "source": [
    "Видим, что общая конверсия уменьшилась после изменений дизайна сайта/приложения."
   ]
  },
  {
   "cell_type": "markdown",
   "id": "713ef79e",
   "metadata": {},
   "source": [
    "Для начала давайте посчитаем доверительные интервалы для конверсий двух групп. "
   ]
  },
  {
   "cell_type": "code",
   "execution_count": 24,
   "id": "a0726af8",
   "metadata": {},
   "outputs": [
    {
     "data": {
      "text/html": [
       "<div>\n",
       "<style scoped>\n",
       "    .dataframe tbody tr th:only-of-type {\n",
       "        vertical-align: middle;\n",
       "    }\n",
       "\n",
       "    .dataframe tbody tr th {\n",
       "        vertical-align: top;\n",
       "    }\n",
       "\n",
       "    .dataframe thead th {\n",
       "        text-align: right;\n",
       "    }\n",
       "</style>\n",
       "<table border=\"1\" class=\"dataframe\">\n",
       "  <thead>\n",
       "    <tr style=\"text-align: right;\">\n",
       "      <th></th>\n",
       "      <th>landing_page</th>\n",
       "      <th>group</th>\n",
       "      <th>converted</th>\n",
       "    </tr>\n",
       "  </thead>\n",
       "  <tbody>\n",
       "    <tr>\n",
       "      <th>0</th>\n",
       "      <td>old_page</td>\n",
       "      <td>control</td>\n",
       "      <td>0</td>\n",
       "    </tr>\n",
       "    <tr>\n",
       "      <th>1</th>\n",
       "      <td>old_page</td>\n",
       "      <td>control</td>\n",
       "      <td>0</td>\n",
       "    </tr>\n",
       "    <tr>\n",
       "      <th>4</th>\n",
       "      <td>old_page</td>\n",
       "      <td>control</td>\n",
       "      <td>1</td>\n",
       "    </tr>\n",
       "    <tr>\n",
       "      <th>5</th>\n",
       "      <td>old_page</td>\n",
       "      <td>control</td>\n",
       "      <td>0</td>\n",
       "    </tr>\n",
       "    <tr>\n",
       "      <th>7</th>\n",
       "      <td>old_page</td>\n",
       "      <td>control</td>\n",
       "      <td>0</td>\n",
       "    </tr>\n",
       "    <tr>\n",
       "      <th>...</th>\n",
       "      <td>...</td>\n",
       "      <td>...</td>\n",
       "      <td>...</td>\n",
       "    </tr>\n",
       "    <tr>\n",
       "      <th>294471</th>\n",
       "      <td>old_page</td>\n",
       "      <td>control</td>\n",
       "      <td>0</td>\n",
       "    </tr>\n",
       "    <tr>\n",
       "      <th>294473</th>\n",
       "      <td>old_page</td>\n",
       "      <td>control</td>\n",
       "      <td>0</td>\n",
       "    </tr>\n",
       "    <tr>\n",
       "      <th>294474</th>\n",
       "      <td>old_page</td>\n",
       "      <td>control</td>\n",
       "      <td>0</td>\n",
       "    </tr>\n",
       "    <tr>\n",
       "      <th>294475</th>\n",
       "      <td>old_page</td>\n",
       "      <td>control</td>\n",
       "      <td>0</td>\n",
       "    </tr>\n",
       "    <tr>\n",
       "      <th>294476</th>\n",
       "      <td>old_page</td>\n",
       "      <td>control</td>\n",
       "      <td>0</td>\n",
       "    </tr>\n",
       "  </tbody>\n",
       "</table>\n",
       "<p>147202 rows × 3 columns</p>\n",
       "</div>"
      ],
      "text/plain": [
       "       landing_page    group  converted\n",
       "0          old_page  control          0\n",
       "1          old_page  control          0\n",
       "4          old_page  control          1\n",
       "5          old_page  control          0\n",
       "7          old_page  control          0\n",
       "...             ...      ...        ...\n",
       "294471     old_page  control          0\n",
       "294473     old_page  control          0\n",
       "294474     old_page  control          0\n",
       "294475     old_page  control          0\n",
       "294476     old_page  control          0\n",
       "\n",
       "[147202 rows x 3 columns]"
      ]
     },
     "execution_count": 24,
     "metadata": {},
     "output_type": "execute_result"
    }
   ],
   "source": [
    "data_cntrl = data_ab[['landing_page', 'group', 'converted']].query(\"group=='control'\")\n",
    "data_cntrl"
   ]
  },
  {
   "cell_type": "code",
   "execution_count": 25,
   "id": "b86d0d90",
   "metadata": {},
   "outputs": [
    {
     "data": {
      "text/plain": [
       "(17723, 0.12039917935897611)"
      ]
     },
     "execution_count": 25,
     "metadata": {},
     "output_type": "execute_result"
    }
   ],
   "source": [
    "n = sum(data_cntrl['converted'])\n",
    "p = n / len(data_cntrl['converted'])\n",
    "\n",
    "n, p"
   ]
  },
  {
   "cell_type": "code",
   "execution_count": 26,
   "id": "36532302",
   "metadata": {},
   "outputs": [
    {
     "data": {
      "text/plain": [
       "(0.11560809245335793, 0.12519026626459429)"
      ]
     },
     "execution_count": 26,
     "metadata": {},
     "output_type": "execute_result"
    }
   ],
   "source": [
    "error = 0.02\n",
    "se = np.sqrt(p * (1 - p) / n)\n",
    "#Доверительный интервал для контрольной группы\n",
    "di_control = st.norm.interval(0.95, loc=p, scale=se)\n",
    "di_control"
   ]
  },
  {
   "cell_type": "code",
   "execution_count": 27,
   "id": "be712a57",
   "metadata": {},
   "outputs": [
    {
     "data": {
      "text/html": [
       "<div>\n",
       "<style scoped>\n",
       "    .dataframe tbody tr th:only-of-type {\n",
       "        vertical-align: middle;\n",
       "    }\n",
       "\n",
       "    .dataframe tbody tr th {\n",
       "        vertical-align: top;\n",
       "    }\n",
       "\n",
       "    .dataframe thead th {\n",
       "        text-align: right;\n",
       "    }\n",
       "</style>\n",
       "<table border=\"1\" class=\"dataframe\">\n",
       "  <thead>\n",
       "    <tr style=\"text-align: right;\">\n",
       "      <th></th>\n",
       "      <th>landing_page</th>\n",
       "      <th>group</th>\n",
       "      <th>converted</th>\n",
       "    </tr>\n",
       "  </thead>\n",
       "  <tbody>\n",
       "    <tr>\n",
       "      <th>2</th>\n",
       "      <td>new_page</td>\n",
       "      <td>treatment</td>\n",
       "      <td>0</td>\n",
       "    </tr>\n",
       "    <tr>\n",
       "      <th>3</th>\n",
       "      <td>new_page</td>\n",
       "      <td>treatment</td>\n",
       "      <td>0</td>\n",
       "    </tr>\n",
       "    <tr>\n",
       "      <th>6</th>\n",
       "      <td>new_page</td>\n",
       "      <td>treatment</td>\n",
       "      <td>1</td>\n",
       "    </tr>\n",
       "    <tr>\n",
       "      <th>8</th>\n",
       "      <td>new_page</td>\n",
       "      <td>treatment</td>\n",
       "      <td>1</td>\n",
       "    </tr>\n",
       "    <tr>\n",
       "      <th>9</th>\n",
       "      <td>new_page</td>\n",
       "      <td>treatment</td>\n",
       "      <td>1</td>\n",
       "    </tr>\n",
       "    <tr>\n",
       "      <th>...</th>\n",
       "      <td>...</td>\n",
       "      <td>...</td>\n",
       "      <td>...</td>\n",
       "    </tr>\n",
       "    <tr>\n",
       "      <th>294462</th>\n",
       "      <td>new_page</td>\n",
       "      <td>treatment</td>\n",
       "      <td>0</td>\n",
       "    </tr>\n",
       "    <tr>\n",
       "      <th>294465</th>\n",
       "      <td>new_page</td>\n",
       "      <td>treatment</td>\n",
       "      <td>0</td>\n",
       "    </tr>\n",
       "    <tr>\n",
       "      <th>294468</th>\n",
       "      <td>new_page</td>\n",
       "      <td>treatment</td>\n",
       "      <td>0</td>\n",
       "    </tr>\n",
       "    <tr>\n",
       "      <th>294472</th>\n",
       "      <td>new_page</td>\n",
       "      <td>treatment</td>\n",
       "      <td>0</td>\n",
       "    </tr>\n",
       "    <tr>\n",
       "      <th>294477</th>\n",
       "      <td>new_page</td>\n",
       "      <td>treatment</td>\n",
       "      <td>0</td>\n",
       "    </tr>\n",
       "  </tbody>\n",
       "</table>\n",
       "<p>147276 rows × 3 columns</p>\n",
       "</div>"
      ],
      "text/plain": [
       "       landing_page      group  converted\n",
       "2          new_page  treatment          0\n",
       "3          new_page  treatment          0\n",
       "6          new_page  treatment          1\n",
       "8          new_page  treatment          1\n",
       "9          new_page  treatment          1\n",
       "...             ...        ...        ...\n",
       "294462     new_page  treatment          0\n",
       "294465     new_page  treatment          0\n",
       "294468     new_page  treatment          0\n",
       "294472     new_page  treatment          0\n",
       "294477     new_page  treatment          0\n",
       "\n",
       "[147276 rows x 3 columns]"
      ]
     },
     "execution_count": 27,
     "metadata": {},
     "output_type": "execute_result"
    }
   ],
   "source": [
    "data_test = data_ab[['landing_page', 'group', 'converted']].query(\"group=='treatment'\")\n",
    "data_test"
   ]
  },
  {
   "cell_type": "code",
   "execution_count": 28,
   "id": "e9fac313",
   "metadata": {},
   "outputs": [
    {
     "data": {
      "text/plain": [
       "(17514, 0.11891957956489856)"
      ]
     },
     "execution_count": 28,
     "metadata": {},
     "output_type": "execute_result"
    }
   ],
   "source": [
    "n = sum(data_test['converted'])\n",
    "p = n / len(data_test['converted'])\n",
    "\n",
    "n, p"
   ]
  },
  {
   "cell_type": "code",
   "execution_count": 29,
   "id": "132e5a9f",
   "metadata": {},
   "outputs": [
    {
     "data": {
      "text/plain": [
       "(0.11412566956865315, 0.12371348956114396)"
      ]
     },
     "execution_count": 29,
     "metadata": {},
     "output_type": "execute_result"
    }
   ],
   "source": [
    "error = 0.02\n",
    "se = np.sqrt(p * (1 - p) / n)\n",
    "#Доверительный интервал для тестовой группы\n",
    "di_test = st.norm.interval(0.95, loc=p, scale=se)\n",
    "di_test"
   ]
  },
  {
   "cell_type": "code",
   "execution_count": 30,
   "id": "789410b1",
   "metadata": {},
   "outputs": [
    {
     "data": {
      "text/plain": [
       "(0.11560809245335793, 0.12519026626459429)"
      ]
     },
     "execution_count": 30,
     "metadata": {},
     "output_type": "execute_result"
    }
   ],
   "source": [
    "di_control"
   ]
  },
  {
   "cell_type": "code",
   "execution_count": 31,
   "id": "2e16c8b4",
   "metadata": {},
   "outputs": [
    {
     "data": {
      "text/plain": [
       "(0.11412566956865315, 0.12371348956114396)"
      ]
     },
     "execution_count": 31,
     "metadata": {},
     "output_type": "execute_result"
    }
   ],
   "source": [
    "di_test"
   ]
  },
  {
   "cell_type": "markdown",
   "id": "2721bcd2",
   "metadata": {},
   "source": [
    "Доверительные интервалы пересекаются => разница есть"
   ]
  },
  {
   "cell_type": "markdown",
   "id": "f3f65fa9",
   "metadata": {},
   "source": [
    "Проверим бутстрепом"
   ]
  },
  {
   "cell_type": "markdown",
   "id": "0eab0cce",
   "metadata": {},
   "source": [
    "H0: Полученная конверсия на новом сайте не отличается от конверсии на старом сайте\n",
    "\n",
    "H1: Полученная конверсия на старом сайте ниже полученной конверсии на новом сайте"
   ]
  },
  {
   "cell_type": "code",
   "execution_count": 32,
   "id": "fb19d45e",
   "metadata": {},
   "outputs": [
    {
     "data": {
      "text/html": [
       "<div>\n",
       "<style scoped>\n",
       "    .dataframe tbody tr th:only-of-type {\n",
       "        vertical-align: middle;\n",
       "    }\n",
       "\n",
       "    .dataframe tbody tr th {\n",
       "        vertical-align: top;\n",
       "    }\n",
       "\n",
       "    .dataframe thead th {\n",
       "        text-align: right;\n",
       "    }\n",
       "</style>\n",
       "<table border=\"1\" class=\"dataframe\">\n",
       "  <thead>\n",
       "    <tr style=\"text-align: right;\">\n",
       "      <th></th>\n",
       "      <th>converted</th>\n",
       "    </tr>\n",
       "    <tr>\n",
       "      <th>group</th>\n",
       "      <th></th>\n",
       "    </tr>\n",
       "  </thead>\n",
       "  <tbody>\n",
       "    <tr>\n",
       "      <th>control</th>\n",
       "      <td>0.120399</td>\n",
       "    </tr>\n",
       "    <tr>\n",
       "      <th>treatment</th>\n",
       "      <td>0.118920</td>\n",
       "    </tr>\n",
       "  </tbody>\n",
       "</table>\n",
       "</div>"
      ],
      "text/plain": [
       "           converted\n",
       "group               \n",
       "control     0.120399\n",
       "treatment   0.118920"
      ]
     },
     "execution_count": 32,
     "metadata": {},
     "output_type": "execute_result"
    }
   ],
   "source": [
    "data_cr.groupby(['group']).agg({'converted':'mean'})"
   ]
  },
  {
   "cell_type": "code",
   "execution_count": 52,
   "id": "44771793",
   "metadata": {},
   "outputs": [
    {
     "data": {
      "text/plain": [
       "0         0\n",
       "1         0\n",
       "4         1\n",
       "5         0\n",
       "7         0\n",
       "         ..\n",
       "294471    0\n",
       "294473    0\n",
       "294474    0\n",
       "294475    0\n",
       "294476    0\n",
       "Name: converted, Length: 147202, dtype: int64"
      ]
     },
     "execution_count": 52,
     "metadata": {},
     "output_type": "execute_result"
    }
   ],
   "source": [
    "A_btsr = (data_ab.query(\" group == 'control' \")['converted'])\n",
    "B_btsr = (data_ab.query(\" group == 'treatment' \")['converted'])\n",
    "A_btsr"
   ]
  },
  {
   "cell_type": "code",
   "execution_count": 38,
   "id": "ee868cad",
   "metadata": {},
   "outputs": [
    {
     "data": {
      "text/plain": [
       "0.001479000000000008"
      ]
     },
     "execution_count": 38,
     "metadata": {},
     "output_type": "execute_result"
    }
   ],
   "source": [
    "A_ = 0.120399\n",
    "B_ = 0.118920\n",
    "AB_diff = A_ -  B_ #разница в конверсиях \n",
    "AB_diff "
   ]
  },
  {
   "cell_type": "code",
   "execution_count": 64,
   "id": "806d5964",
   "metadata": {},
   "outputs": [
    {
     "name": "stderr",
     "output_type": "stream",
     "text": [
      "100%|██████████| 2000/2000 [03:06<00:00, 10.72it/s]\n"
     ]
    }
   ],
   "source": [
    "N = 2000 #количество семплов\n",
    "result = [] \n",
    "\n",
    "for _ in tqdm(range(N)):\n",
    "    a = A_btsr.sample(n= len(A_btsr), replace=True)\n",
    "    b = B_btsr.sample(n= len(B_btsr), replace=True)\n",
    "    p1 = sum(a)/len(a)\n",
    "    p2 = sum(b)/len(b)\n",
    "    p_diff = p2 - p1\n",
    "    result.append(p_diff)"
   ]
  },
  {
   "cell_type": "code",
   "execution_count": 66,
   "id": "8b121032",
   "metadata": {},
   "outputs": [
    {
     "data": {
      "text/plain": [
       "[-0.001716968935920063,\n",
       " -0.0013172309690622774,\n",
       " -0.0052420194367711614,\n",
       " -0.0008822938382855722,\n",
       " -0.001642180249329786]"
      ]
     },
     "execution_count": 66,
     "metadata": {},
     "output_type": "execute_result"
    }
   ],
   "source": [
    "result[:5]"
   ]
  },
  {
   "cell_type": "code",
   "execution_count": 72,
   "id": "ad6ca603",
   "metadata": {},
   "outputs": [
    {
     "data": {
      "text/plain": [
       "<Axes: ylabel='Count'>"
      ]
     },
     "execution_count": 72,
     "metadata": {},
     "output_type": "execute_result"
    },
    {
     "data": {
      "image/png": "[encoded data removed]",
      "text/plain": [
       "<Figure size 640x480 with 1 Axes>"
      ]
     },
     "metadata": {},
     "output_type": "display_data"
    }
   ],
   "source": [
    "#Посмотрим на распределение\n",
    "sns.histplot(result)"
   ]
  },
  {
   "cell_type": "code",
   "execution_count": 86,
   "id": "6d2dc758",
   "metadata": {},
   "outputs": [],
   "source": [
    "result_more = []\n",
    "base_diff = 0.001479000000000008\n",
    "\n",
    "for item in result: \n",
    "    if item > base_diff:\n",
    "        result_more.append(item)"
   ]
  },
  {
   "cell_type": "code",
   "execution_count": 88,
   "id": "b71172b0",
   "metadata": {},
   "outputs": [
    {
     "data": {
      "text/plain": [
       "1.6138908403244777e-05"
      ]
     },
     "execution_count": 88,
     "metadata": {},
     "output_type": "execute_result"
    }
   ],
   "source": [
    "p_value = sum(result_more) / N\n",
    "p_value"
   ]
  },
  {
   "cell_type": "markdown",
   "id": "4c082076",
   "metadata": {},
   "source": [
    "p_value - стремится к нулю, поэтому при уровне значимости в 5% мы можем отвергнуть нулевую гипотезу и принять альтернативную, что разница в конверсиях все-таки есть"
   ]
  },
  {
   "cell_type": "code",
   "execution_count": null,
   "id": "f0c8bcdd",
   "metadata": {},
   "outputs": [],
   "source": []
  }
 ],
 "metadata": {
  "kernelspec": {
   "display_name": "Python 3 (ipykernel)",
   "language": "python",
   "name": "python3"
  },
  "language_info": {
   "codemirror_mode": {
    "name": "ipython",
    "version": 3
   },
   "file_extension": ".py",
   "mimetype": "text/x-python",
   "name": "python",
   "nbconvert_exporter": "python",
   "pygments_lexer": "ipython3",
   "version": "3.11.3"
  }
 },
 "nbformat": 4,
 "nbformat_minor": 5
}
